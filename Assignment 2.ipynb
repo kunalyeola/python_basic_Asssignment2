{
 "cells": [
  {
   "cell_type": "markdown",
   "metadata": {},
   "source": [
    "## Q1.What are the two values of the Boolean data type? How do you write them?\n"
   ]
  },
  {
   "cell_type": "markdown",
   "metadata": {},
   "source": [
    "##### There are two values for Boolean data type \n",
    "* 1 True \n",
    "* 2 False\n",
    "\n",
    "* we Write them using 'True' and 'False'\n",
    "+ always the first letter is capital \n",
    "+  for True start with capital letter 'T'\n",
    "+  for False start with caplital letter 'F'\n"
   ]
  },
  {
   "cell_type": "markdown",
   "metadata": {},
   "source": [
    "## Q2. What are the three different types of Boolean operators?"
   ]
  },
  {
   "cell_type": "markdown",
   "metadata": {},
   "source": [
    "First Boolean operator is 'and'\n",
    "for showing 'and' operator in program we write 'and' keyword and symboloc format we show using this sign '&'\n",
    "\n",
    "Second Boolean operator is 'or'\n",
    "for showing 'or' operator in program we write 'or' keyword and symboloc format we show using this sign '|'\n",
    "\n",
    "Third Boolean operator is 'not'\n",
    "for showing 'not' operator in program we write 'not' keyword"
   ]
  },
  {
   "cell_type": "markdown",
   "metadata": {},
   "source": [
    "## 3. Make a list of each Boolean operator&#39;s truth tables (i.e. every possible combination of Boolean"
   ]
  },
  {
   "cell_type": "markdown",
   "metadata": {},
   "source": [
    "Table for and operator\n",
    "\n",
    "+ True and True = True\n",
    "+ True and False = False \n",
    "+ False and True = False  \n",
    "+ False and  False = False \n",
    "\n",
    "Table for or operator \n",
    "\n",
    "+ True or True = True \n",
    "+ True or False = True \n",
    "+ False or True = True \n",
    "+ False or False  = False  \n",
    "\n",
    "Table for not operator\n",
    "\n",
    "+ not True = False  \n",
    "+ not False = True  \n"
   ]
  },
  {
   "cell_type": "markdown",
   "metadata": {},
   "source": [
    "## Q4. What are the values of the following expressions?\n"
   ]
  },
  {
   "cell_type": "markdown",
   "metadata": {},
   "source": [
    "+ (5 > 4) and (3 == 5)\n",
    "\n",
    "False \n",
    "+ not (5 > 4)\n",
    "\n",
    "False \n",
    "+ (5 > 4) or (3 == 5)\n",
    "\n",
    "True\n",
    "+ not ((5 > 4) or (3 == 5))\n",
    "\n",
    "False\n",
    "+ (True and True) and (True == False)\n",
    "\n",
    "False\n",
    "+ (not False) or (not True)\n",
    "\n",
    "True "
   ]
  },
  {
   "cell_type": "markdown",
   "metadata": {},
   "source": [
    "## Q5. What are the six comparison operators?"
   ]
  },
  {
   "cell_type": "markdown",
   "metadata": {},
   "source": [
    "1 == equal to\n",
    "\n",
    "2 != not equal to\n",
    "\n",
    "3 > greate than \n",
    "\n",
    "4 < less than\n",
    "\n",
    "5 >= greater than or equal to \n",
    "\n",
    "6 <= less than or equal to\n",
    "\n",
    "\n"
   ]
  },
  {
   "cell_type": "markdown",
   "metadata": {},
   "source": [
    "## Q6 . How do you tell the difference between the equal to and assignment operators?Describe a condition and when you would use one."
   ]
  },
  {
   "cell_type": "markdown",
   "metadata": {},
   "source": [
    "== is the equal to operator comparees two values and return boolean values \n",
    "\n",
    "= assignment operetor that stores a value in a variable \n",
    "\n",
    "if we want check the two values are equal or not \n",
    "+ eg. \"kunal\" == \"kunal\"\n",
    "       True\n",
    "       \n",
    "and the assignment operator is use when we want put value in variable\n",
    "+ eg a=3 // assignment\n"
   ]
  },
  {
   "cell_type": "markdown",
   "metadata": {},
   "source": [
    "## Q7. Identify the three blocks in this code:\n",
    "spam = 0\n",
    "\n",
    "if spam == 10:\n",
    "\n",
    "print(\"eggs\")\n",
    "\n",
    "if spam > 5:\n",
    "\n",
    "print('bacon')\n",
    "\n",
    "else:\n",
    "\n",
    "print('ham')\n",
    "\n",
    "print('spam')\n",
    "\n",
    "print('spam')"
   ]
  },
  {
   "cell_type": "markdown",
   "metadata": {},
   "source": [
    "### that all write inside in if or else statement are the blocks\n",
    "\n",
    "print(\"eggs\")\n",
    "if spam value is 10 \n",
    "\n",
    "print(\"bacon\")\n",
    "if spam is greter than 5\n",
    "\n",
    "and if the value is less than 5 \n",
    "the else block is print \n",
    "print(\"ham\")\n",
    "print(\"spam\")\n",
    "print(\"spam\")"
   ]
  },
  {
   "cell_type": "markdown",
   "metadata": {},
   "source": [
    "## Q8. Write code that prints Hello if 1 is stored in spam, prints Howdy if 2 is stored in spam, and prints Greetings! if anything else is stored in spam."
   ]
  },
  {
   "cell_type": "markdown",
   "metadata": {},
   "source": [
    " if spam == 1:\n",
    "    print(\"Hello\")\n",
    "    \n",
    "if spam == 2:\n",
    "    print(\"Howdy\")\n",
    "    \n",
    "else :\n",
    "    print(\"Greetings!\")\n",
    "\n",
    "    "
   ]
  },
  {
   "cell_type": "markdown",
   "metadata": {},
   "source": [
    "## Q9.If your programme is stuck in an endless loop, what keys you’ll press?"
   ]
  },
  {
   "cell_type": "markdown",
   "metadata": {},
   "source": [
    "Press CTRL+C if your program stuck in an endless loop"
   ]
  },
  {
   "cell_type": "markdown",
   "metadata": {},
   "source": [
    "## Q10. How can you tell the difference between break and continue?"
   ]
  },
  {
   "cell_type": "markdown",
   "metadata": {},
   "source": [
    "The break statement will move the excution outside \n",
    "\n",
    "and The Continue statment will move the excution to the start of loop"
   ]
  },
  {
   "cell_type": "markdown",
   "metadata": {},
   "source": [
    "## Q11. In a for loop, what is the difference between range(10), range(0, 10), and range(0, 10, 1)?"
   ]
  },
  {
   "cell_type": "markdown",
   "metadata": {},
   "source": [
    "All given function do same thing in range(10) they start with zero and end with 9\n",
    "\n",
    "in range(0,10) the loop start with expicitly start with 0 and end with 9\n",
    "\n",
    "in range(0,10) the loop start with expicitly start with 0 and end with 9 but with step 1\n"
   ]
  },
  {
   "cell_type": "markdown",
   "metadata": {},
   "source": [
    "## Q 12. Write a short program that prints the numbers 1 to 10 using a for loop. Then write an equivalent program that prints the numbers 1 to 10 using a while loop."
   ]
  },
  {
   "cell_type": "code",
   "execution_count": 3,
   "metadata": {},
   "outputs": [
    {
     "name": "stdout",
     "output_type": "stream",
     "text": [
      "1\n",
      "2\n",
      "3\n",
      "4\n",
      "5\n",
      "6\n",
      "7\n",
      "8\n",
      "9\n",
      "10\n"
     ]
    }
   ],
   "source": [
    "#program for 'for' loop\n",
    "\n",
    "for i in range(1,10+1):\n",
    "    print(i)\n",
    "    "
   ]
  },
  {
   "cell_type": "code",
   "execution_count": 6,
   "metadata": {},
   "outputs": [
    {
     "name": "stdout",
     "output_type": "stream",
     "text": [
      "1\n",
      "2\n",
      "3\n",
      "4\n",
      "5\n",
      "6\n",
      "7\n",
      "8\n",
      "9\n",
      "10\n"
     ]
    }
   ],
   "source": [
    "#program for 'while' loop\n",
    "i=1\n",
    "while i<=10:\n",
    "    print (i)\n",
    "    i=i+1"
   ]
  },
  {
   "cell_type": "markdown",
   "metadata": {},
   "source": [
    "## Q13 If you had a function named bacon() inside a module named spam, how would you call it after importing spam?"
   ]
  },
  {
   "cell_type": "markdown",
   "metadata": {},
   "source": [
    "we will been called this function using this way 'spam.bacon()'"
   ]
  },
  {
   "cell_type": "code",
   "execution_count": null,
   "metadata": {},
   "outputs": [],
   "source": []
  }
 ],
 "metadata": {
  "kernelspec": {
   "display_name": "Python 3",
   "language": "python",
   "name": "python3"
  },
  "language_info": {
   "codemirror_mode": {
    "name": "ipython",
    "version": 3
   },
   "file_extension": ".py",
   "mimetype": "text/x-python",
   "name": "python",
   "nbconvert_exporter": "python",
   "pygments_lexer": "ipython3",
   "version": "3.8.3"
  }
 },
 "nbformat": 4,
 "nbformat_minor": 4
}
